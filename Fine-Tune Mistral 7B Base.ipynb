{
 "cells": [
  {
   "cell_type": "code",
   "execution_count": 1,
   "id": "36468704",
   "metadata": {},
   "outputs": [],
   "source": [
    "!conda activate Jatin_GPU_ENV"
   ]
  },
  {
   "cell_type": "code",
   "execution_count": 4,
   "id": "acd8e518",
   "metadata": {},
   "outputs": [],
   "source": [
    "#Setting the encoding to prevent any conversion problem\n",
    "import os\n",
    "os.environ['LC_ALL'] = 'C.UTF-8'"
   ]
  },
  {
   "cell_type": "code",
   "execution_count": 3,
   "id": "3d946ca4",
   "metadata": {},
   "outputs": [],
   "source": [
    "#Important base installations\n",
    "git "
   ]
  },
  {
   "cell_type": "code",
   "execution_count": null,
   "id": "96dcfa8e",
   "metadata": {},
   "outputs": [],
   "source": []
  }
 ],
 "metadata": {
  "kernelspec": {
   "display_name": "Python 3 (ipykernel)",
   "language": "python",
   "name": "python3"
  },
  "language_info": {
   "codemirror_mode": {
    "name": "ipython",
    "version": 3
   },
   "file_extension": ".py",
   "mimetype": "text/x-python",
   "name": "python",
   "nbconvert_exporter": "python",
   "pygments_lexer": "ipython3",
   "version": "3.9.16"
  }
 },
 "nbformat": 4,
 "nbformat_minor": 5
}
